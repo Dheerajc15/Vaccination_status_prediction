{
 "cells": [
  {
   "cell_type": "markdown",
   "id": "7fe59a8d",
   "metadata": {},
   "source": [
    "<div style=\"color:red; background-color:lime; padding:3%; border-radius:150px 150px; font-size:2em; text-align:center\">Problem Statement: To find whether the person is vaccinated or not</div>"
   ]
  },
  {
   "cell_type": "code",
   "execution_count": 29,
   "id": "d6d4ab5b",
   "metadata": {},
   "outputs": [],
   "source": [
    "import numpy as np\n",
    "import pandas as pd\n",
    "import matplotlib.pyplot as plt\n",
    "import seaborn as sns\n",
    "\n",
    "#Classifiers\n",
    "from sklearn.ensemble import AdaBoostClassifier, GradientBoostingClassifier, RandomForestClassifier\n",
    "from sklearn.linear_model import LogisticRegression\n",
    "from sklearn.neighbors import KNeighborsClassifier\n",
    "from sklearn.tree import DecisionTreeClassifier\n",
    "\n",
    "#Model evaluation tools\n",
    "from sklearn.metrics import classification_report, accuracy_score, confusion_matrix\n",
    "from sklearn.metrics import f1_score\n",
    "from sklearn.model_selection import cross_val_score\n",
    "\n",
    "#Data processing functions\n",
    "from sklearn.model_selection import train_test_split\n",
    "import warnings\n",
    "warnings.filterwarnings(\"ignore\")"
   ]
  },
  {
   "cell_type": "code",
   "execution_count": 30,
   "id": "60b6ef27",
   "metadata": {},
   "outputs": [],
   "source": [
    "df = pd.read_csv(\"h1n1_vaccine_prediction.csv\")"
   ]
  },
  {
   "cell_type": "code",
   "execution_count": 31,
   "id": "bbdb4f3a",
   "metadata": {},
   "outputs": [
    {
     "data": {
      "text/html": [
       "<div>\n",
       "<style scoped>\n",
       "    .dataframe tbody tr th:only-of-type {\n",
       "        vertical-align: middle;\n",
       "    }\n",
       "\n",
       "    .dataframe tbody tr th {\n",
       "        vertical-align: top;\n",
       "    }\n",
       "\n",
       "    .dataframe thead th {\n",
       "        text-align: right;\n",
       "    }\n",
       "</style>\n",
       "<table border=\"1\" class=\"dataframe\">\n",
       "  <thead>\n",
       "    <tr style=\"text-align: right;\">\n",
       "      <th></th>\n",
       "      <th>unique_id</th>\n",
       "      <th>h1n1_worry</th>\n",
       "      <th>h1n1_awareness</th>\n",
       "      <th>antiviral_medication</th>\n",
       "      <th>contact_avoidance</th>\n",
       "      <th>bought_face_mask</th>\n",
       "      <th>wash_hands_frequently</th>\n",
       "      <th>avoid_large_gatherings</th>\n",
       "      <th>reduced_outside_home_cont</th>\n",
       "      <th>avoid_touch_face</th>\n",
       "      <th>...</th>\n",
       "      <th>race</th>\n",
       "      <th>sex</th>\n",
       "      <th>income_level</th>\n",
       "      <th>marital_status</th>\n",
       "      <th>housing_status</th>\n",
       "      <th>employment</th>\n",
       "      <th>census_msa</th>\n",
       "      <th>no_of_adults</th>\n",
       "      <th>no_of_children</th>\n",
       "      <th>h1n1_vaccine</th>\n",
       "    </tr>\n",
       "  </thead>\n",
       "  <tbody>\n",
       "    <tr>\n",
       "      <th>0</th>\n",
       "      <td>0</td>\n",
       "      <td>1.0</td>\n",
       "      <td>0.0</td>\n",
       "      <td>0.0</td>\n",
       "      <td>0.0</td>\n",
       "      <td>0.0</td>\n",
       "      <td>0.0</td>\n",
       "      <td>0.0</td>\n",
       "      <td>1.0</td>\n",
       "      <td>1.0</td>\n",
       "      <td>...</td>\n",
       "      <td>White</td>\n",
       "      <td>Female</td>\n",
       "      <td>Below Poverty</td>\n",
       "      <td>Not Married</td>\n",
       "      <td>Own</td>\n",
       "      <td>Not in Labor Force</td>\n",
       "      <td>Non-MSA</td>\n",
       "      <td>0.0</td>\n",
       "      <td>0.0</td>\n",
       "      <td>0</td>\n",
       "    </tr>\n",
       "    <tr>\n",
       "      <th>1</th>\n",
       "      <td>1</td>\n",
       "      <td>3.0</td>\n",
       "      <td>2.0</td>\n",
       "      <td>0.0</td>\n",
       "      <td>1.0</td>\n",
       "      <td>0.0</td>\n",
       "      <td>1.0</td>\n",
       "      <td>0.0</td>\n",
       "      <td>1.0</td>\n",
       "      <td>1.0</td>\n",
       "      <td>...</td>\n",
       "      <td>White</td>\n",
       "      <td>Male</td>\n",
       "      <td>Below Poverty</td>\n",
       "      <td>Not Married</td>\n",
       "      <td>Rent</td>\n",
       "      <td>Employed</td>\n",
       "      <td>MSA, Not Principle  City</td>\n",
       "      <td>0.0</td>\n",
       "      <td>0.0</td>\n",
       "      <td>0</td>\n",
       "    </tr>\n",
       "    <tr>\n",
       "      <th>2</th>\n",
       "      <td>2</td>\n",
       "      <td>1.0</td>\n",
       "      <td>1.0</td>\n",
       "      <td>0.0</td>\n",
       "      <td>1.0</td>\n",
       "      <td>0.0</td>\n",
       "      <td>0.0</td>\n",
       "      <td>0.0</td>\n",
       "      <td>0.0</td>\n",
       "      <td>0.0</td>\n",
       "      <td>...</td>\n",
       "      <td>White</td>\n",
       "      <td>Male</td>\n",
       "      <td>&lt;= $75,000, Above Poverty</td>\n",
       "      <td>Not Married</td>\n",
       "      <td>Own</td>\n",
       "      <td>Employed</td>\n",
       "      <td>MSA, Not Principle  City</td>\n",
       "      <td>2.0</td>\n",
       "      <td>0.0</td>\n",
       "      <td>0</td>\n",
       "    </tr>\n",
       "    <tr>\n",
       "      <th>3</th>\n",
       "      <td>3</td>\n",
       "      <td>1.0</td>\n",
       "      <td>1.0</td>\n",
       "      <td>0.0</td>\n",
       "      <td>1.0</td>\n",
       "      <td>0.0</td>\n",
       "      <td>1.0</td>\n",
       "      <td>1.0</td>\n",
       "      <td>0.0</td>\n",
       "      <td>0.0</td>\n",
       "      <td>...</td>\n",
       "      <td>White</td>\n",
       "      <td>Female</td>\n",
       "      <td>Below Poverty</td>\n",
       "      <td>Not Married</td>\n",
       "      <td>Rent</td>\n",
       "      <td>Not in Labor Force</td>\n",
       "      <td>MSA, Principle City</td>\n",
       "      <td>0.0</td>\n",
       "      <td>0.0</td>\n",
       "      <td>0</td>\n",
       "    </tr>\n",
       "    <tr>\n",
       "      <th>4</th>\n",
       "      <td>4</td>\n",
       "      <td>2.0</td>\n",
       "      <td>1.0</td>\n",
       "      <td>0.0</td>\n",
       "      <td>1.0</td>\n",
       "      <td>0.0</td>\n",
       "      <td>1.0</td>\n",
       "      <td>1.0</td>\n",
       "      <td>0.0</td>\n",
       "      <td>1.0</td>\n",
       "      <td>...</td>\n",
       "      <td>White</td>\n",
       "      <td>Female</td>\n",
       "      <td>&lt;= $75,000, Above Poverty</td>\n",
       "      <td>Married</td>\n",
       "      <td>Own</td>\n",
       "      <td>Employed</td>\n",
       "      <td>MSA, Not Principle  City</td>\n",
       "      <td>1.0</td>\n",
       "      <td>0.0</td>\n",
       "      <td>0</td>\n",
       "    </tr>\n",
       "  </tbody>\n",
       "</table>\n",
       "<p>5 rows × 34 columns</p>\n",
       "</div>"
      ],
      "text/plain": [
       "   unique_id  h1n1_worry  h1n1_awareness  antiviral_medication  \\\n",
       "0          0         1.0             0.0                   0.0   \n",
       "1          1         3.0             2.0                   0.0   \n",
       "2          2         1.0             1.0                   0.0   \n",
       "3          3         1.0             1.0                   0.0   \n",
       "4          4         2.0             1.0                   0.0   \n",
       "\n",
       "   contact_avoidance  bought_face_mask  wash_hands_frequently  \\\n",
       "0                0.0               0.0                    0.0   \n",
       "1                1.0               0.0                    1.0   \n",
       "2                1.0               0.0                    0.0   \n",
       "3                1.0               0.0                    1.0   \n",
       "4                1.0               0.0                    1.0   \n",
       "\n",
       "   avoid_large_gatherings  reduced_outside_home_cont  avoid_touch_face  ...  \\\n",
       "0                     0.0                        1.0               1.0  ...   \n",
       "1                     0.0                        1.0               1.0  ...   \n",
       "2                     0.0                        0.0               0.0  ...   \n",
       "3                     1.0                        0.0               0.0  ...   \n",
       "4                     1.0                        0.0               1.0  ...   \n",
       "\n",
       "    race     sex               income_level  marital_status  housing_status  \\\n",
       "0  White  Female              Below Poverty     Not Married             Own   \n",
       "1  White    Male              Below Poverty     Not Married            Rent   \n",
       "2  White    Male  <= $75,000, Above Poverty     Not Married             Own   \n",
       "3  White  Female              Below Poverty     Not Married            Rent   \n",
       "4  White  Female  <= $75,000, Above Poverty         Married             Own   \n",
       "\n",
       "           employment                census_msa  no_of_adults  no_of_children  \\\n",
       "0  Not in Labor Force                   Non-MSA           0.0             0.0   \n",
       "1            Employed  MSA, Not Principle  City           0.0             0.0   \n",
       "2            Employed  MSA, Not Principle  City           2.0             0.0   \n",
       "3  Not in Labor Force       MSA, Principle City           0.0             0.0   \n",
       "4            Employed  MSA, Not Principle  City           1.0             0.0   \n",
       "\n",
       "   h1n1_vaccine  \n",
       "0             0  \n",
       "1             0  \n",
       "2             0  \n",
       "3             0  \n",
       "4             0  \n",
       "\n",
       "[5 rows x 34 columns]"
      ]
     },
     "execution_count": 31,
     "metadata": {},
     "output_type": "execute_result"
    }
   ],
   "source": [
    "df.head()"
   ]
  },
  {
   "cell_type": "code",
   "execution_count": 32,
   "id": "7200da20",
   "metadata": {},
   "outputs": [
    {
     "data": {
      "text/plain": [
       "(26707, 34)"
      ]
     },
     "execution_count": 32,
     "metadata": {},
     "output_type": "execute_result"
    }
   ],
   "source": [
    "df.shape"
   ]
  },
  {
   "cell_type": "code",
   "execution_count": 33,
   "id": "4c143886",
   "metadata": {},
   "outputs": [
    {
     "data": {
      "text/plain": [
       "Index(['unique_id', 'h1n1_worry', 'h1n1_awareness', 'antiviral_medication',\n",
       "       'contact_avoidance', 'bought_face_mask', 'wash_hands_frequently',\n",
       "       'avoid_large_gatherings', 'reduced_outside_home_cont',\n",
       "       'avoid_touch_face', 'dr_recc_h1n1_vacc', 'dr_recc_seasonal_vacc',\n",
       "       'chronic_medic_condition', 'cont_child_undr_6_mnths',\n",
       "       'is_health_worker', 'has_health_insur', 'is_h1n1_vacc_effective',\n",
       "       'is_h1n1_risky', 'sick_from_h1n1_vacc', 'is_seas_vacc_effective',\n",
       "       'is_seas_risky', 'sick_from_seas_vacc', 'age_bracket', 'qualification',\n",
       "       'race', 'sex', 'income_level', 'marital_status', 'housing_status',\n",
       "       'employment', 'census_msa', 'no_of_adults', 'no_of_children',\n",
       "       'h1n1_vaccine'],\n",
       "      dtype='object')"
      ]
     },
     "execution_count": 33,
     "metadata": {},
     "output_type": "execute_result"
    }
   ],
   "source": [
    "df.columns"
   ]
  },
  {
   "cell_type": "code",
   "execution_count": 34,
   "id": "0bfac7e2",
   "metadata": {},
   "outputs": [],
   "source": [
    "df.drop(['unique_id','contact_avoidance', 'bought_face_mask', 'wash_hands_frequently','reduced_outside_home_cont','avoid_touch_face','is_seas_vacc_effective',\n",
    "       'is_seas_risky', 'sick_from_seas_vacc','qualification','housing_status','no_of_adults', 'no_of_children','dr_recc_seasonal_vacc','cont_child_undr_6_mnths'], axis=1, inplace=True)"
   ]
  },
  {
   "cell_type": "code",
   "execution_count": 35,
   "id": "d11e12c7",
   "metadata": {},
   "outputs": [
    {
     "data": {
      "text/plain": [
       "h1n1_worry                 float64\n",
       "h1n1_awareness             float64\n",
       "antiviral_medication       float64\n",
       "avoid_large_gatherings     float64\n",
       "dr_recc_h1n1_vacc          float64\n",
       "chronic_medic_condition    float64\n",
       "is_health_worker           float64\n",
       "has_health_insur           float64\n",
       "is_h1n1_vacc_effective     float64\n",
       "is_h1n1_risky              float64\n",
       "sick_from_h1n1_vacc        float64\n",
       "age_bracket                 object\n",
       "race                        object\n",
       "sex                         object\n",
       "income_level                object\n",
       "marital_status              object\n",
       "employment                  object\n",
       "census_msa                  object\n",
       "h1n1_vaccine                 int64\n",
       "dtype: object"
      ]
     },
     "execution_count": 35,
     "metadata": {},
     "output_type": "execute_result"
    }
   ],
   "source": [
    "df.dtypes"
   ]
  },
  {
   "cell_type": "code",
   "execution_count": 36,
   "id": "23842f01",
   "metadata": {},
   "outputs": [
    {
     "data": {
      "text/plain": [
       "h1n1_worry                    92\n",
       "h1n1_awareness               116\n",
       "antiviral_medication          71\n",
       "avoid_large_gatherings        87\n",
       "dr_recc_h1n1_vacc           2160\n",
       "chronic_medic_condition      971\n",
       "is_health_worker             804\n",
       "has_health_insur           12274\n",
       "is_h1n1_vacc_effective       391\n",
       "is_h1n1_risky                388\n",
       "sick_from_h1n1_vacc          395\n",
       "age_bracket                    0\n",
       "race                           0\n",
       "sex                            0\n",
       "income_level                4423\n",
       "marital_status              1408\n",
       "employment                  1463\n",
       "census_msa                     0\n",
       "h1n1_vaccine                   0\n",
       "dtype: int64"
      ]
     },
     "execution_count": 36,
     "metadata": {},
     "output_type": "execute_result"
    }
   ],
   "source": [
    "df.isnull().sum()"
   ]
  },
  {
   "cell_type": "code",
   "execution_count": 37,
   "id": "2f39bbae",
   "metadata": {},
   "outputs": [],
   "source": [
    "df.dropna(inplace=True)"
   ]
  },
  {
   "cell_type": "code",
   "execution_count": 39,
   "id": "5b8dd21e",
   "metadata": {},
   "outputs": [
    {
     "data": {
      "text/plain": [
       "h1n1_worry                 0\n",
       "h1n1_awareness             0\n",
       "antiviral_medication       0\n",
       "avoid_large_gatherings     0\n",
       "dr_recc_h1n1_vacc          0\n",
       "chronic_medic_condition    0\n",
       "is_health_worker           0\n",
       "has_health_insur           0\n",
       "is_h1n1_vacc_effective     0\n",
       "is_h1n1_risky              0\n",
       "sick_from_h1n1_vacc        0\n",
       "age_bracket                0\n",
       "race                       0\n",
       "sex                        0\n",
       "income_level               0\n",
       "marital_status             0\n",
       "employment                 0\n",
       "census_msa                 0\n",
       "h1n1_vaccine               0\n",
       "dtype: int64"
      ]
     },
     "execution_count": 39,
     "metadata": {},
     "output_type": "execute_result"
    }
   ],
   "source": [
    "df.isnull().sum()"
   ]
  },
  {
   "cell_type": "code",
   "execution_count": 40,
   "id": "fa1b2468",
   "metadata": {},
   "outputs": [
    {
     "data": {
      "text/plain": [
       "<AxesSubplot: xlabel='h1n1_vaccine', ylabel='count'>"
      ]
     },
     "execution_count": 40,
     "metadata": {},
     "output_type": "execute_result"
    },
    {
     "data": {
      "image/png": "[encoded data removed]",
      "text/plain": [
       "<Figure size 640x480 with 1 Axes>"
      ]
     },
     "metadata": {},
     "output_type": "display_data"
    }
   ],
   "source": [
    "sns.countplot(x='h1n1_vaccine', hue='sex', data=df)"
   ]
  },
  {
   "cell_type": "code",
   "execution_count": 41,
   "id": "a2d32663",
   "metadata": {},
   "outputs": [
    {
     "data": {
      "text/plain": [
       "<AxesSubplot: xlabel='h1n1_vaccine', ylabel='count'>"
      ]
     },
     "execution_count": 41,
     "metadata": {},
     "output_type": "execute_result"
    },
    {
     "data": {
      "image/png": "[encoded data removed]",
      "text/plain": [
       "<Figure size 640x480 with 1 Axes>"
      ]
     },
     "metadata": {},
     "output_type": "display_data"
    }
   ],
   "source": [
    "sns.countplot(x='h1n1_vaccine', hue='income_level', data=df)"
   ]
  },
  {
   "cell_type": "code",
   "execution_count": 42,
   "id": "6d12c2a8",
   "metadata": {},
   "outputs": [
    {
     "data": {
      "text/html": [
       "<div>\n",
       "<style scoped>\n",
       "    .dataframe tbody tr th:only-of-type {\n",
       "        vertical-align: middle;\n",
       "    }\n",
       "\n",
       "    .dataframe tbody tr th {\n",
       "        vertical-align: top;\n",
       "    }\n",
       "\n",
       "    .dataframe thead th {\n",
       "        text-align: right;\n",
       "    }\n",
       "</style>\n",
       "<table border=\"1\" class=\"dataframe\">\n",
       "  <thead>\n",
       "    <tr style=\"text-align: right;\">\n",
       "      <th></th>\n",
       "      <th>h1n1_worry</th>\n",
       "      <th>h1n1_awareness</th>\n",
       "      <th>antiviral_medication</th>\n",
       "      <th>avoid_large_gatherings</th>\n",
       "      <th>dr_recc_h1n1_vacc</th>\n",
       "      <th>chronic_medic_condition</th>\n",
       "      <th>is_health_worker</th>\n",
       "      <th>has_health_insur</th>\n",
       "      <th>is_h1n1_vacc_effective</th>\n",
       "      <th>is_h1n1_risky</th>\n",
       "      <th>sick_from_h1n1_vacc</th>\n",
       "      <th>h1n1_vaccine</th>\n",
       "    </tr>\n",
       "  </thead>\n",
       "  <tbody>\n",
       "    <tr>\n",
       "      <th>h1n1_worry</th>\n",
       "      <td>1.000000</td>\n",
       "      <td>0.046993</td>\n",
       "      <td>0.110267</td>\n",
       "      <td>0.243174</td>\n",
       "      <td>0.156696</td>\n",
       "      <td>0.097590</td>\n",
       "      <td>0.018928</td>\n",
       "      <td>-0.003178</td>\n",
       "      <td>0.262606</td>\n",
       "      <td>0.364190</td>\n",
       "      <td>0.335981</td>\n",
       "      <td>0.187520</td>\n",
       "    </tr>\n",
       "    <tr>\n",
       "      <th>h1n1_awareness</th>\n",
       "      <td>0.046993</td>\n",
       "      <td>1.000000</td>\n",
       "      <td>-0.011710</td>\n",
       "      <td>-0.053049</td>\n",
       "      <td>0.097987</td>\n",
       "      <td>-0.009879</td>\n",
       "      <td>0.187843</td>\n",
       "      <td>0.124821</td>\n",
       "      <td>0.123233</td>\n",
       "      <td>0.078616</td>\n",
       "      <td>-0.026028</td>\n",
       "      <td>0.160390</td>\n",
       "    </tr>\n",
       "    <tr>\n",
       "      <th>antiviral_medication</th>\n",
       "      <td>0.110267</td>\n",
       "      <td>-0.011710</td>\n",
       "      <td>1.000000</td>\n",
       "      <td>0.111075</td>\n",
       "      <td>0.042624</td>\n",
       "      <td>0.008916</td>\n",
       "      <td>0.002445</td>\n",
       "      <td>-0.063812</td>\n",
       "      <td>0.019052</td>\n",
       "      <td>0.110820</td>\n",
       "      <td>0.086908</td>\n",
       "      <td>0.020508</td>\n",
       "    </tr>\n",
       "    <tr>\n",
       "      <th>avoid_large_gatherings</th>\n",
       "      <td>0.243174</td>\n",
       "      <td>-0.053049</td>\n",
       "      <td>0.111075</td>\n",
       "      <td>1.000000</td>\n",
       "      <td>0.077470</td>\n",
       "      <td>0.112774</td>\n",
       "      <td>-0.035532</td>\n",
       "      <td>-0.064070</td>\n",
       "      <td>0.064538</td>\n",
       "      <td>0.131112</td>\n",
       "      <td>0.186254</td>\n",
       "      <td>0.037027</td>\n",
       "    </tr>\n",
       "    <tr>\n",
       "      <th>dr_recc_h1n1_vacc</th>\n",
       "      <td>0.156696</td>\n",
       "      <td>0.097987</td>\n",
       "      <td>0.042624</td>\n",
       "      <td>0.077470</td>\n",
       "      <td>1.000000</td>\n",
       "      <td>0.160271</td>\n",
       "      <td>0.077082</td>\n",
       "      <td>0.062411</td>\n",
       "      <td>0.170758</td>\n",
       "      <td>0.272677</td>\n",
       "      <td>0.108595</td>\n",
       "      <td>0.416843</td>\n",
       "    </tr>\n",
       "    <tr>\n",
       "      <th>chronic_medic_condition</th>\n",
       "      <td>0.097590</td>\n",
       "      <td>-0.009879</td>\n",
       "      <td>0.008916</td>\n",
       "      <td>0.112774</td>\n",
       "      <td>0.160271</td>\n",
       "      <td>1.000000</td>\n",
       "      <td>-0.014748</td>\n",
       "      <td>0.061117</td>\n",
       "      <td>0.057450</td>\n",
       "      <td>0.118264</td>\n",
       "      <td>0.071662</td>\n",
       "      <td>0.111867</td>\n",
       "    </tr>\n",
       "    <tr>\n",
       "      <th>is_health_worker</th>\n",
       "      <td>0.018928</td>\n",
       "      <td>0.187843</td>\n",
       "      <td>0.002445</td>\n",
       "      <td>-0.035532</td>\n",
       "      <td>0.077082</td>\n",
       "      <td>-0.014748</td>\n",
       "      <td>1.000000</td>\n",
       "      <td>0.046677</td>\n",
       "      <td>0.057201</td>\n",
       "      <td>0.120537</td>\n",
       "      <td>0.011897</td>\n",
       "      <td>0.174316</td>\n",
       "    </tr>\n",
       "    <tr>\n",
       "      <th>has_health_insur</th>\n",
       "      <td>-0.003178</td>\n",
       "      <td>0.124821</td>\n",
       "      <td>-0.063812</td>\n",
       "      <td>-0.064070</td>\n",
       "      <td>0.062411</td>\n",
       "      <td>0.061117</td>\n",
       "      <td>0.046677</td>\n",
       "      <td>1.000000</td>\n",
       "      <td>0.058554</td>\n",
       "      <td>0.005145</td>\n",
       "      <td>-0.037289</td>\n",
       "      <td>0.122642</td>\n",
       "    </tr>\n",
       "    <tr>\n",
       "      <th>is_h1n1_vacc_effective</th>\n",
       "      <td>0.262606</td>\n",
       "      <td>0.123233</td>\n",
       "      <td>0.019052</td>\n",
       "      <td>0.064538</td>\n",
       "      <td>0.170758</td>\n",
       "      <td>0.057450</td>\n",
       "      <td>0.057201</td>\n",
       "      <td>0.058554</td>\n",
       "      <td>1.000000</td>\n",
       "      <td>0.308591</td>\n",
       "      <td>0.073136</td>\n",
       "      <td>0.315108</td>\n",
       "    </tr>\n",
       "    <tr>\n",
       "      <th>is_h1n1_risky</th>\n",
       "      <td>0.364190</td>\n",
       "      <td>0.078616</td>\n",
       "      <td>0.110820</td>\n",
       "      <td>0.131112</td>\n",
       "      <td>0.272677</td>\n",
       "      <td>0.118264</td>\n",
       "      <td>0.120537</td>\n",
       "      <td>0.005145</td>\n",
       "      <td>0.308591</td>\n",
       "      <td>1.000000</td>\n",
       "      <td>0.314504</td>\n",
       "      <td>0.423616</td>\n",
       "    </tr>\n",
       "    <tr>\n",
       "      <th>sick_from_h1n1_vacc</th>\n",
       "      <td>0.335981</td>\n",
       "      <td>-0.026028</td>\n",
       "      <td>0.086908</td>\n",
       "      <td>0.186254</td>\n",
       "      <td>0.108595</td>\n",
       "      <td>0.071662</td>\n",
       "      <td>0.011897</td>\n",
       "      <td>-0.037289</td>\n",
       "      <td>0.073136</td>\n",
       "      <td>0.314504</td>\n",
       "      <td>1.000000</td>\n",
       "      <td>0.107979</td>\n",
       "    </tr>\n",
       "    <tr>\n",
       "      <th>h1n1_vaccine</th>\n",
       "      <td>0.187520</td>\n",
       "      <td>0.160390</td>\n",
       "      <td>0.020508</td>\n",
       "      <td>0.037027</td>\n",
       "      <td>0.416843</td>\n",
       "      <td>0.111867</td>\n",
       "      <td>0.174316</td>\n",
       "      <td>0.122642</td>\n",
       "      <td>0.315108</td>\n",
       "      <td>0.423616</td>\n",
       "      <td>0.107979</td>\n",
       "      <td>1.000000</td>\n",
       "    </tr>\n",
       "  </tbody>\n",
       "</table>\n",
       "</div>"
      ],
      "text/plain": [
       "                         h1n1_worry  h1n1_awareness  antiviral_medication  \\\n",
       "h1n1_worry                 1.000000        0.046993              0.110267   \n",
       "h1n1_awareness             0.046993        1.000000             -0.011710   \n",
       "antiviral_medication       0.110267       -0.011710              1.000000   \n",
       "avoid_large_gatherings     0.243174       -0.053049              0.111075   \n",
       "dr_recc_h1n1_vacc          0.156696        0.097987              0.042624   \n",
       "chronic_medic_condition    0.097590       -0.009879              0.008916   \n",
       "is_health_worker           0.018928        0.187843              0.002445   \n",
       "has_health_insur          -0.003178        0.124821             -0.063812   \n",
       "is_h1n1_vacc_effective     0.262606        0.123233              0.019052   \n",
       "is_h1n1_risky              0.364190        0.078616              0.110820   \n",
       "sick_from_h1n1_vacc        0.335981       -0.026028              0.086908   \n",
       "h1n1_vaccine               0.187520        0.160390              0.020508   \n",
       "\n",
       "                         avoid_large_gatherings  dr_recc_h1n1_vacc  \\\n",
       "h1n1_worry                             0.243174           0.156696   \n",
       "h1n1_awareness                        -0.053049           0.097987   \n",
       "antiviral_medication                   0.111075           0.042624   \n",
       "avoid_large_gatherings                 1.000000           0.077470   \n",
       "dr_recc_h1n1_vacc                      0.077470           1.000000   \n",
       "chronic_medic_condition                0.112774           0.160271   \n",
       "is_health_worker                      -0.035532           0.077082   \n",
       "has_health_insur                      -0.064070           0.062411   \n",
       "is_h1n1_vacc_effective                 0.064538           0.170758   \n",
       "is_h1n1_risky                          0.131112           0.272677   \n",
       "sick_from_h1n1_vacc                    0.186254           0.108595   \n",
       "h1n1_vaccine                           0.037027           0.416843   \n",
       "\n",
       "                         chronic_medic_condition  is_health_worker  \\\n",
       "h1n1_worry                              0.097590          0.018928   \n",
       "h1n1_awareness                         -0.009879          0.187843   \n",
       "antiviral_medication                    0.008916          0.002445   \n",
       "avoid_large_gatherings                  0.112774         -0.035532   \n",
       "dr_recc_h1n1_vacc                       0.160271          0.077082   \n",
       "chronic_medic_condition                 1.000000         -0.014748   \n",
       "is_health_worker                       -0.014748          1.000000   \n",
       "has_health_insur                        0.061117          0.046677   \n",
       "is_h1n1_vacc_effective                  0.057450          0.057201   \n",
       "is_h1n1_risky                           0.118264          0.120537   \n",
       "sick_from_h1n1_vacc                     0.071662          0.011897   \n",
       "h1n1_vaccine                            0.111867          0.174316   \n",
       "\n",
       "                         has_health_insur  is_h1n1_vacc_effective  \\\n",
       "h1n1_worry                      -0.003178                0.262606   \n",
       "h1n1_awareness                   0.124821                0.123233   \n",
       "antiviral_medication            -0.063812                0.019052   \n",
       "avoid_large_gatherings          -0.064070                0.064538   \n",
       "dr_recc_h1n1_vacc                0.062411                0.170758   \n",
       "chronic_medic_condition          0.061117                0.057450   \n",
       "is_health_worker                 0.046677                0.057201   \n",
       "has_health_insur                 1.000000                0.058554   \n",
       "is_h1n1_vacc_effective           0.058554                1.000000   \n",
       "is_h1n1_risky                    0.005145                0.308591   \n",
       "sick_from_h1n1_vacc             -0.037289                0.073136   \n",
       "h1n1_vaccine                     0.122642                0.315108   \n",
       "\n",
       "                         is_h1n1_risky  sick_from_h1n1_vacc  h1n1_vaccine  \n",
       "h1n1_worry                    0.364190             0.335981      0.187520  \n",
       "h1n1_awareness                0.078616            -0.026028      0.160390  \n",
       "antiviral_medication          0.110820             0.086908      0.020508  \n",
       "avoid_large_gatherings        0.131112             0.186254      0.037027  \n",
       "dr_recc_h1n1_vacc             0.272677             0.108595      0.416843  \n",
       "chronic_medic_condition       0.118264             0.071662      0.111867  \n",
       "is_health_worker              0.120537             0.011897      0.174316  \n",
       "has_health_insur              0.005145            -0.037289      0.122642  \n",
       "is_h1n1_vacc_effective        0.308591             0.073136      0.315108  \n",
       "is_h1n1_risky                 1.000000             0.314504      0.423616  \n",
       "sick_from_h1n1_vacc           0.314504             1.000000      0.107979  \n",
       "h1n1_vaccine                  0.423616             0.107979      1.000000  "
      ]
     },
     "execution_count": 42,
     "metadata": {},
     "output_type": "execute_result"
    }
   ],
   "source": [
    "correlation_mat = df.corr()\n",
    "correlation_mat"
   ]
  },
  {
   "cell_type": "code",
   "execution_count": 43,
   "id": "35c2ec7b",
   "metadata": {},
   "outputs": [
    {
     "data": {
      "text/html": [
       "<div>\n",
       "<style scoped>\n",
       "    .dataframe tbody tr th:only-of-type {\n",
       "        vertical-align: middle;\n",
       "    }\n",
       "\n",
       "    .dataframe tbody tr th {\n",
       "        vertical-align: top;\n",
       "    }\n",
       "\n",
       "    .dataframe thead th {\n",
       "        text-align: right;\n",
       "    }\n",
       "</style>\n",
       "<table border=\"1\" class=\"dataframe\">\n",
       "  <thead>\n",
       "    <tr style=\"text-align: right;\">\n",
       "      <th></th>\n",
       "      <th>h1n1_worry</th>\n",
       "      <th>h1n1_awareness</th>\n",
       "      <th>antiviral_medication</th>\n",
       "      <th>avoid_large_gatherings</th>\n",
       "      <th>dr_recc_h1n1_vacc</th>\n",
       "      <th>chronic_medic_condition</th>\n",
       "      <th>is_health_worker</th>\n",
       "      <th>has_health_insur</th>\n",
       "      <th>is_h1n1_vacc_effective</th>\n",
       "      <th>is_h1n1_risky</th>\n",
       "      <th>sick_from_h1n1_vacc</th>\n",
       "      <th>age_bracket</th>\n",
       "      <th>race</th>\n",
       "      <th>sex</th>\n",
       "      <th>income_level</th>\n",
       "      <th>marital_status</th>\n",
       "      <th>employment</th>\n",
       "      <th>census_msa</th>\n",
       "      <th>h1n1_vaccine</th>\n",
       "    </tr>\n",
       "  </thead>\n",
       "  <tbody>\n",
       "    <tr>\n",
       "      <th>count</th>\n",
       "      <td>12061.000000</td>\n",
       "      <td>12061.000000</td>\n",
       "      <td>12061.000000</td>\n",
       "      <td>12061.000000</td>\n",
       "      <td>12061.000000</td>\n",
       "      <td>12061.000000</td>\n",
       "      <td>12061.000000</td>\n",
       "      <td>12061.000000</td>\n",
       "      <td>12061.000000</td>\n",
       "      <td>12061.000000</td>\n",
       "      <td>12061.000000</td>\n",
       "      <td>12061</td>\n",
       "      <td>12061</td>\n",
       "      <td>12061</td>\n",
       "      <td>12061</td>\n",
       "      <td>12061</td>\n",
       "      <td>12061</td>\n",
       "      <td>12061</td>\n",
       "      <td>12061.00000</td>\n",
       "    </tr>\n",
       "    <tr>\n",
       "      <th>unique</th>\n",
       "      <td>NaN</td>\n",
       "      <td>NaN</td>\n",
       "      <td>NaN</td>\n",
       "      <td>NaN</td>\n",
       "      <td>NaN</td>\n",
       "      <td>NaN</td>\n",
       "      <td>NaN</td>\n",
       "      <td>NaN</td>\n",
       "      <td>NaN</td>\n",
       "      <td>NaN</td>\n",
       "      <td>NaN</td>\n",
       "      <td>5</td>\n",
       "      <td>4</td>\n",
       "      <td>2</td>\n",
       "      <td>3</td>\n",
       "      <td>2</td>\n",
       "      <td>3</td>\n",
       "      <td>3</td>\n",
       "      <td>NaN</td>\n",
       "    </tr>\n",
       "    <tr>\n",
       "      <th>top</th>\n",
       "      <td>NaN</td>\n",
       "      <td>NaN</td>\n",
       "      <td>NaN</td>\n",
       "      <td>NaN</td>\n",
       "      <td>NaN</td>\n",
       "      <td>NaN</td>\n",
       "      <td>NaN</td>\n",
       "      <td>NaN</td>\n",
       "      <td>NaN</td>\n",
       "      <td>NaN</td>\n",
       "      <td>NaN</td>\n",
       "      <td>65+ Years</td>\n",
       "      <td>White</td>\n",
       "      <td>Female</td>\n",
       "      <td>&lt;= $75,000, Above Poverty</td>\n",
       "      <td>Married</td>\n",
       "      <td>Employed</td>\n",
       "      <td>MSA, Not Principle  City</td>\n",
       "      <td>NaN</td>\n",
       "    </tr>\n",
       "    <tr>\n",
       "      <th>freq</th>\n",
       "      <td>NaN</td>\n",
       "      <td>NaN</td>\n",
       "      <td>NaN</td>\n",
       "      <td>NaN</td>\n",
       "      <td>NaN</td>\n",
       "      <td>NaN</td>\n",
       "      <td>NaN</td>\n",
       "      <td>NaN</td>\n",
       "      <td>NaN</td>\n",
       "      <td>NaN</td>\n",
       "      <td>NaN</td>\n",
       "      <td>2853</td>\n",
       "      <td>9655</td>\n",
       "      <td>7138</td>\n",
       "      <td>6909</td>\n",
       "      <td>6467</td>\n",
       "      <td>6716</td>\n",
       "      <td>5221</td>\n",
       "      <td>NaN</td>\n",
       "    </tr>\n",
       "    <tr>\n",
       "      <th>mean</th>\n",
       "      <td>1.528314</td>\n",
       "      <td>1.268966</td>\n",
       "      <td>0.053727</td>\n",
       "      <td>0.332808</td>\n",
       "      <td>0.249731</td>\n",
       "      <td>0.294669</td>\n",
       "      <td>0.117072</td>\n",
       "      <td>0.881353</td>\n",
       "      <td>3.957964</td>\n",
       "      <td>2.310837</td>\n",
       "      <td>2.293923</td>\n",
       "      <td>NaN</td>\n",
       "      <td>NaN</td>\n",
       "      <td>NaN</td>\n",
       "      <td>NaN</td>\n",
       "      <td>NaN</td>\n",
       "      <td>NaN</td>\n",
       "      <td>NaN</td>\n",
       "      <td>0.30155</td>\n",
       "    </tr>\n",
       "    <tr>\n",
       "      <th>std</th>\n",
       "      <td>0.885931</td>\n",
       "      <td>0.605768</td>\n",
       "      <td>0.225487</td>\n",
       "      <td>0.471238</td>\n",
       "      <td>0.432875</td>\n",
       "      <td>0.455913</td>\n",
       "      <td>0.321519</td>\n",
       "      <td>0.323386</td>\n",
       "      <td>0.988981</td>\n",
       "      <td>1.286093</td>\n",
       "      <td>1.343588</td>\n",
       "      <td>NaN</td>\n",
       "      <td>NaN</td>\n",
       "      <td>NaN</td>\n",
       "      <td>NaN</td>\n",
       "      <td>NaN</td>\n",
       "      <td>NaN</td>\n",
       "      <td>NaN</td>\n",
       "      <td>0.45895</td>\n",
       "    </tr>\n",
       "    <tr>\n",
       "      <th>min</th>\n",
       "      <td>0.000000</td>\n",
       "      <td>0.000000</td>\n",
       "      <td>0.000000</td>\n",
       "      <td>0.000000</td>\n",
       "      <td>0.000000</td>\n",
       "      <td>0.000000</td>\n",
       "      <td>0.000000</td>\n",
       "      <td>0.000000</td>\n",
       "      <td>1.000000</td>\n",
       "      <td>1.000000</td>\n",
       "      <td>1.000000</td>\n",
       "      <td>NaN</td>\n",
       "      <td>NaN</td>\n",
       "      <td>NaN</td>\n",
       "      <td>NaN</td>\n",
       "      <td>NaN</td>\n",
       "      <td>NaN</td>\n",
       "      <td>NaN</td>\n",
       "      <td>0.00000</td>\n",
       "    </tr>\n",
       "    <tr>\n",
       "      <th>25%</th>\n",
       "      <td>1.000000</td>\n",
       "      <td>1.000000</td>\n",
       "      <td>0.000000</td>\n",
       "      <td>0.000000</td>\n",
       "      <td>0.000000</td>\n",
       "      <td>0.000000</td>\n",
       "      <td>0.000000</td>\n",
       "      <td>1.000000</td>\n",
       "      <td>4.000000</td>\n",
       "      <td>1.000000</td>\n",
       "      <td>1.000000</td>\n",
       "      <td>NaN</td>\n",
       "      <td>NaN</td>\n",
       "      <td>NaN</td>\n",
       "      <td>NaN</td>\n",
       "      <td>NaN</td>\n",
       "      <td>NaN</td>\n",
       "      <td>NaN</td>\n",
       "      <td>0.00000</td>\n",
       "    </tr>\n",
       "    <tr>\n",
       "      <th>50%</th>\n",
       "      <td>2.000000</td>\n",
       "      <td>1.000000</td>\n",
       "      <td>0.000000</td>\n",
       "      <td>0.000000</td>\n",
       "      <td>0.000000</td>\n",
       "      <td>0.000000</td>\n",
       "      <td>0.000000</td>\n",
       "      <td>1.000000</td>\n",
       "      <td>4.000000</td>\n",
       "      <td>2.000000</td>\n",
       "      <td>2.000000</td>\n",
       "      <td>NaN</td>\n",
       "      <td>NaN</td>\n",
       "      <td>NaN</td>\n",
       "      <td>NaN</td>\n",
       "      <td>NaN</td>\n",
       "      <td>NaN</td>\n",
       "      <td>NaN</td>\n",
       "      <td>0.00000</td>\n",
       "    </tr>\n",
       "    <tr>\n",
       "      <th>75%</th>\n",
       "      <td>2.000000</td>\n",
       "      <td>2.000000</td>\n",
       "      <td>0.000000</td>\n",
       "      <td>1.000000</td>\n",
       "      <td>0.000000</td>\n",
       "      <td>1.000000</td>\n",
       "      <td>0.000000</td>\n",
       "      <td>1.000000</td>\n",
       "      <td>5.000000</td>\n",
       "      <td>4.000000</td>\n",
       "      <td>4.000000</td>\n",
       "      <td>NaN</td>\n",
       "      <td>NaN</td>\n",
       "      <td>NaN</td>\n",
       "      <td>NaN</td>\n",
       "      <td>NaN</td>\n",
       "      <td>NaN</td>\n",
       "      <td>NaN</td>\n",
       "      <td>1.00000</td>\n",
       "    </tr>\n",
       "    <tr>\n",
       "      <th>max</th>\n",
       "      <td>3.000000</td>\n",
       "      <td>2.000000</td>\n",
       "      <td>1.000000</td>\n",
       "      <td>1.000000</td>\n",
       "      <td>1.000000</td>\n",
       "      <td>1.000000</td>\n",
       "      <td>1.000000</td>\n",
       "      <td>1.000000</td>\n",
       "      <td>5.000000</td>\n",
       "      <td>5.000000</td>\n",
       "      <td>5.000000</td>\n",
       "      <td>NaN</td>\n",
       "      <td>NaN</td>\n",
       "      <td>NaN</td>\n",
       "      <td>NaN</td>\n",
       "      <td>NaN</td>\n",
       "      <td>NaN</td>\n",
       "      <td>NaN</td>\n",
       "      <td>1.00000</td>\n",
       "    </tr>\n",
       "  </tbody>\n",
       "</table>\n",
       "</div>"
      ],
      "text/plain": [
       "          h1n1_worry  h1n1_awareness  antiviral_medication  \\\n",
       "count   12061.000000    12061.000000          12061.000000   \n",
       "unique           NaN             NaN                   NaN   \n",
       "top              NaN             NaN                   NaN   \n",
       "freq             NaN             NaN                   NaN   \n",
       "mean        1.528314        1.268966              0.053727   \n",
       "std         0.885931        0.605768              0.225487   \n",
       "min         0.000000        0.000000              0.000000   \n",
       "25%         1.000000        1.000000              0.000000   \n",
       "50%         2.000000        1.000000              0.000000   \n",
       "75%         2.000000        2.000000              0.000000   \n",
       "max         3.000000        2.000000              1.000000   \n",
       "\n",
       "        avoid_large_gatherings  dr_recc_h1n1_vacc  chronic_medic_condition  \\\n",
       "count             12061.000000       12061.000000             12061.000000   \n",
       "unique                     NaN                NaN                      NaN   \n",
       "top                        NaN                NaN                      NaN   \n",
       "freq                       NaN                NaN                      NaN   \n",
       "mean                  0.332808           0.249731                 0.294669   \n",
       "std                   0.471238           0.432875                 0.455913   \n",
       "min                   0.000000           0.000000                 0.000000   \n",
       "25%                   0.000000           0.000000                 0.000000   \n",
       "50%                   0.000000           0.000000                 0.000000   \n",
       "75%                   1.000000           0.000000                 1.000000   \n",
       "max                   1.000000           1.000000                 1.000000   \n",
       "\n",
       "        is_health_worker  has_health_insur  is_h1n1_vacc_effective  \\\n",
       "count       12061.000000      12061.000000            12061.000000   \n",
       "unique               NaN               NaN                     NaN   \n",
       "top                  NaN               NaN                     NaN   \n",
       "freq                 NaN               NaN                     NaN   \n",
       "mean            0.117072          0.881353                3.957964   \n",
       "std             0.321519          0.323386                0.988981   \n",
       "min             0.000000          0.000000                1.000000   \n",
       "25%             0.000000          1.000000                4.000000   \n",
       "50%             0.000000          1.000000                4.000000   \n",
       "75%             0.000000          1.000000                5.000000   \n",
       "max             1.000000          1.000000                5.000000   \n",
       "\n",
       "        is_h1n1_risky  sick_from_h1n1_vacc age_bracket   race     sex  \\\n",
       "count    12061.000000         12061.000000       12061  12061   12061   \n",
       "unique            NaN                  NaN           5      4       2   \n",
       "top               NaN                  NaN   65+ Years  White  Female   \n",
       "freq              NaN                  NaN        2853   9655    7138   \n",
       "mean         2.310837             2.293923         NaN    NaN     NaN   \n",
       "std          1.286093             1.343588         NaN    NaN     NaN   \n",
       "min          1.000000             1.000000         NaN    NaN     NaN   \n",
       "25%          1.000000             1.000000         NaN    NaN     NaN   \n",
       "50%          2.000000             2.000000         NaN    NaN     NaN   \n",
       "75%          4.000000             4.000000         NaN    NaN     NaN   \n",
       "max          5.000000             5.000000         NaN    NaN     NaN   \n",
       "\n",
       "                     income_level marital_status employment  \\\n",
       "count                       12061          12061      12061   \n",
       "unique                          3              2          3   \n",
       "top     <= $75,000, Above Poverty        Married   Employed   \n",
       "freq                         6909           6467       6716   \n",
       "mean                          NaN            NaN        NaN   \n",
       "std                           NaN            NaN        NaN   \n",
       "min                           NaN            NaN        NaN   \n",
       "25%                           NaN            NaN        NaN   \n",
       "50%                           NaN            NaN        NaN   \n",
       "75%                           NaN            NaN        NaN   \n",
       "max                           NaN            NaN        NaN   \n",
       "\n",
       "                      census_msa  h1n1_vaccine  \n",
       "count                      12061   12061.00000  \n",
       "unique                         3           NaN  \n",
       "top     MSA, Not Principle  City           NaN  \n",
       "freq                        5221           NaN  \n",
       "mean                         NaN       0.30155  \n",
       "std                          NaN       0.45895  \n",
       "min                          NaN       0.00000  \n",
       "25%                          NaN       0.00000  \n",
       "50%                          NaN       0.00000  \n",
       "75%                          NaN       1.00000  \n",
       "max                          NaN       1.00000  "
      ]
     },
     "execution_count": 43,
     "metadata": {},
     "output_type": "execute_result"
    }
   ],
   "source": [
    "df.describe(include='all')"
   ]
  },
  {
   "cell_type": "code",
   "execution_count": 44,
   "id": "66054429",
   "metadata": {},
   "outputs": [
    {
     "data": {
      "text/plain": [
       "h1n1_worry                 float64\n",
       "h1n1_awareness             float64\n",
       "antiviral_medication       float64\n",
       "avoid_large_gatherings     float64\n",
       "dr_recc_h1n1_vacc          float64\n",
       "chronic_medic_condition    float64\n",
       "is_health_worker           float64\n",
       "has_health_insur           float64\n",
       "is_h1n1_vacc_effective     float64\n",
       "is_h1n1_risky              float64\n",
       "sick_from_h1n1_vacc        float64\n",
       "age_bracket                 object\n",
       "race                        object\n",
       "sex                         object\n",
       "income_level                object\n",
       "marital_status              object\n",
       "employment                  object\n",
       "census_msa                  object\n",
       "h1n1_vaccine                 int64\n",
       "dtype: object"
      ]
     },
     "execution_count": 44,
     "metadata": {},
     "output_type": "execute_result"
    }
   ],
   "source": [
    "df.dtypes"
   ]
  },
  {
   "cell_type": "code",
   "execution_count": 45,
   "id": "2a0546c4",
   "metadata": {},
   "outputs": [],
   "source": [
    "df = pd.get_dummies(df, columns=['age_bracket','race','sex','income_level','marital_status', 'employment', 'census_msa'])"
   ]
  },
  {
   "cell_type": "code",
   "execution_count": 47,
   "id": "85b8c37d",
   "metadata": {},
   "outputs": [],
   "source": [
    "X = df.drop(['h1n1_vaccine'], axis=1)\n",
    "y = df[['h1n1_vaccine']]"
   ]
  },
  {
   "cell_type": "code",
   "execution_count": 48,
   "id": "f6ed9d40",
   "metadata": {},
   "outputs": [],
   "source": [
    "X_train, X_test, y_train, y_test = train_test_split(X, y, test_size=0.30, random_state=0)"
   ]
  },
  {
   "cell_type": "markdown",
   "id": "b7da515c",
   "metadata": {},
   "source": [
    "### Fitting the model"
   ]
  },
  {
   "cell_type": "code",
   "execution_count": 49,
   "id": "a2902dba",
   "metadata": {},
   "outputs": [
    {
     "data": {
      "text/html": [
       "<style>#sk-container-id-1 {color: black;background-color: white;}#sk-container-id-1 pre{padding: 0;}#sk-container-id-1 div.sk-toggleable {background-color: white;}#sk-container-id-1 label.sk-toggleable__label {cursor: pointer;display: block;width: 100%;margin-bottom: 0;padding: 0.3em;box-sizing: border-box;text-align: center;}#sk-container-id-1 label.sk-toggleable__label-arrow:before {content: \"▸\";float: left;margin-right: 0.25em;color: #696969;}#sk-container-id-1 label.sk-toggleable__label-arrow:hover:before {color: black;}#sk-container-id-1 div.sk-estimator:hover label.sk-toggleable__label-arrow:before {color: black;}#sk-container-id-1 div.sk-toggleable__content {max-height: 0;max-width: 0;overflow: hidden;text-align: left;background-color: #f0f8ff;}#sk-container-id-1 div.sk-toggleable__content pre {margin: 0.2em;color: black;border-radius: 0.25em;background-color: #f0f8ff;}#sk-container-id-1 input.sk-toggleable__control:checked~div.sk-toggleable__content {max-height: 200px;max-width: 100%;overflow: auto;}#sk-container-id-1 input.sk-toggleable__control:checked~label.sk-toggleable__label-arrow:before {content: \"▾\";}#sk-container-id-1 div.sk-estimator input.sk-toggleable__control:checked~label.sk-toggleable__label {background-color: #d4ebff;}#sk-container-id-1 div.sk-label input.sk-toggleable__control:checked~label.sk-toggleable__label {background-color: #d4ebff;}#sk-container-id-1 input.sk-hidden--visually {border: 0;clip: rect(1px 1px 1px 1px);clip: rect(1px, 1px, 1px, 1px);height: 1px;margin: -1px;overflow: hidden;padding: 0;position: absolute;width: 1px;}#sk-container-id-1 div.sk-estimator {font-family: monospace;background-color: #f0f8ff;border: 1px dotted black;border-radius: 0.25em;box-sizing: border-box;margin-bottom: 0.5em;}#sk-container-id-1 div.sk-estimator:hover {background-color: #d4ebff;}#sk-container-id-1 div.sk-parallel-item::after {content: \"\";width: 100%;border-bottom: 1px solid gray;flex-grow: 1;}#sk-container-id-1 div.sk-label:hover label.sk-toggleable__label {background-color: #d4ebff;}#sk-container-id-1 div.sk-serial::before {content: \"\";position: absolute;border-left: 1px solid gray;box-sizing: border-box;top: 0;bottom: 0;left: 50%;z-index: 0;}#sk-container-id-1 div.sk-serial {display: flex;flex-direction: column;align-items: center;background-color: white;padding-right: 0.2em;padding-left: 0.2em;position: relative;}#sk-container-id-1 div.sk-item {position: relative;z-index: 1;}#sk-container-id-1 div.sk-parallel {display: flex;align-items: stretch;justify-content: center;background-color: white;position: relative;}#sk-container-id-1 div.sk-item::before, #sk-container-id-1 div.sk-parallel-item::before {content: \"\";position: absolute;border-left: 1px solid gray;box-sizing: border-box;top: 0;bottom: 0;left: 50%;z-index: -1;}#sk-container-id-1 div.sk-parallel-item {display: flex;flex-direction: column;z-index: 1;position: relative;background-color: white;}#sk-container-id-1 div.sk-parallel-item:first-child::after {align-self: flex-end;width: 50%;}#sk-container-id-1 div.sk-parallel-item:last-child::after {align-self: flex-start;width: 50%;}#sk-container-id-1 div.sk-parallel-item:only-child::after {width: 0;}#sk-container-id-1 div.sk-dashed-wrapped {border: 1px dashed gray;margin: 0 0.4em 0.5em 0.4em;box-sizing: border-box;padding-bottom: 0.4em;background-color: white;}#sk-container-id-1 div.sk-label label {font-family: monospace;font-weight: bold;display: inline-block;line-height: 1.2em;}#sk-container-id-1 div.sk-label-container {text-align: center;}#sk-container-id-1 div.sk-container {/* jupyter's `normalize.less` sets `[hidden] { display: none; }` but bootstrap.min.css set `[hidden] { display: none !important; }` so we also need the `!important` here to be able to override the default hidden behavior on the sphinx rendered scikit-learn.org. See: https://github.com/scikit-learn/scikit-learn/issues/21755 */display: inline-block !important;position: relative;}#sk-container-id-1 div.sk-text-repr-fallback {display: none;}</style><div id=\"sk-container-id-1\" class=\"sk-top-container\"><div class=\"sk-text-repr-fallback\"><pre>LogisticRegression()</pre><b>In a Jupyter environment, please rerun this cell to show the HTML representation or trust the notebook. <br />On GitHub, the HTML representation is unable to render, please try loading this page with nbviewer.org.</b></div><div class=\"sk-container\" hidden><div class=\"sk-item\"><div class=\"sk-estimator sk-toggleable\"><input class=\"sk-toggleable__control sk-hidden--visually\" id=\"sk-estimator-id-1\" type=\"checkbox\" checked><label for=\"sk-estimator-id-1\" class=\"sk-toggleable__label sk-toggleable__label-arrow\">LogisticRegression</label><div class=\"sk-toggleable__content\"><pre>LogisticRegression()</pre></div></div></div></div></div>"
      ],
      "text/plain": [
       "LogisticRegression()"
      ]
     },
     "execution_count": 49,
     "metadata": {},
     "output_type": "execute_result"
    }
   ],
   "source": [
    "model = LogisticRegression(solver='lbfgs')\n",
    "model.fit(X_train, y_train)\n",
    "model"
   ]
  },
  {
   "cell_type": "code",
   "execution_count": 50,
   "id": "67d469d4",
   "metadata": {},
   "outputs": [
    {
     "data": {
      "text/plain": [
       "0.8131959251362236"
      ]
     },
     "execution_count": 50,
     "metadata": {},
     "output_type": "execute_result"
    }
   ],
   "source": [
    "model.score(X_train, y_train)"
   ]
  },
  {
   "cell_type": "code",
   "execution_count": 51,
   "id": "7f5bff06",
   "metadata": {},
   "outputs": [
    {
     "data": {
      "text/plain": [
       "0.8201160541586073"
      ]
     },
     "execution_count": 51,
     "metadata": {},
     "output_type": "execute_result"
    }
   ],
   "source": [
    "model.score(X_test, y_test)"
   ]
  },
  {
   "cell_type": "code",
   "execution_count": 52,
   "id": "0ff34b85",
   "metadata": {},
   "outputs": [
    {
     "data": {
      "text/html": [
       "<style>#sk-container-id-2 {color: black;background-color: white;}#sk-container-id-2 pre{padding: 0;}#sk-container-id-2 div.sk-toggleable {background-color: white;}#sk-container-id-2 label.sk-toggleable__label {cursor: pointer;display: block;width: 100%;margin-bottom: 0;padding: 0.3em;box-sizing: border-box;text-align: center;}#sk-container-id-2 label.sk-toggleable__label-arrow:before {content: \"▸\";float: left;margin-right: 0.25em;color: #696969;}#sk-container-id-2 label.sk-toggleable__label-arrow:hover:before {color: black;}#sk-container-id-2 div.sk-estimator:hover label.sk-toggleable__label-arrow:before {color: black;}#sk-container-id-2 div.sk-toggleable__content {max-height: 0;max-width: 0;overflow: hidden;text-align: left;background-color: #f0f8ff;}#sk-container-id-2 div.sk-toggleable__content pre {margin: 0.2em;color: black;border-radius: 0.25em;background-color: #f0f8ff;}#sk-container-id-2 input.sk-toggleable__control:checked~div.sk-toggleable__content {max-height: 200px;max-width: 100%;overflow: auto;}#sk-container-id-2 input.sk-toggleable__control:checked~label.sk-toggleable__label-arrow:before {content: \"▾\";}#sk-container-id-2 div.sk-estimator input.sk-toggleable__control:checked~label.sk-toggleable__label {background-color: #d4ebff;}#sk-container-id-2 div.sk-label input.sk-toggleable__control:checked~label.sk-toggleable__label {background-color: #d4ebff;}#sk-container-id-2 input.sk-hidden--visually {border: 0;clip: rect(1px 1px 1px 1px);clip: rect(1px, 1px, 1px, 1px);height: 1px;margin: -1px;overflow: hidden;padding: 0;position: absolute;width: 1px;}#sk-container-id-2 div.sk-estimator {font-family: monospace;background-color: #f0f8ff;border: 1px dotted black;border-radius: 0.25em;box-sizing: border-box;margin-bottom: 0.5em;}#sk-container-id-2 div.sk-estimator:hover {background-color: #d4ebff;}#sk-container-id-2 div.sk-parallel-item::after {content: \"\";width: 100%;border-bottom: 1px solid gray;flex-grow: 1;}#sk-container-id-2 div.sk-label:hover label.sk-toggleable__label {background-color: #d4ebff;}#sk-container-id-2 div.sk-serial::before {content: \"\";position: absolute;border-left: 1px solid gray;box-sizing: border-box;top: 0;bottom: 0;left: 50%;z-index: 0;}#sk-container-id-2 div.sk-serial {display: flex;flex-direction: column;align-items: center;background-color: white;padding-right: 0.2em;padding-left: 0.2em;position: relative;}#sk-container-id-2 div.sk-item {position: relative;z-index: 1;}#sk-container-id-2 div.sk-parallel {display: flex;align-items: stretch;justify-content: center;background-color: white;position: relative;}#sk-container-id-2 div.sk-item::before, #sk-container-id-2 div.sk-parallel-item::before {content: \"\";position: absolute;border-left: 1px solid gray;box-sizing: border-box;top: 0;bottom: 0;left: 50%;z-index: -1;}#sk-container-id-2 div.sk-parallel-item {display: flex;flex-direction: column;z-index: 1;position: relative;background-color: white;}#sk-container-id-2 div.sk-parallel-item:first-child::after {align-self: flex-end;width: 50%;}#sk-container-id-2 div.sk-parallel-item:last-child::after {align-self: flex-start;width: 50%;}#sk-container-id-2 div.sk-parallel-item:only-child::after {width: 0;}#sk-container-id-2 div.sk-dashed-wrapped {border: 1px dashed gray;margin: 0 0.4em 0.5em 0.4em;box-sizing: border-box;padding-bottom: 0.4em;background-color: white;}#sk-container-id-2 div.sk-label label {font-family: monospace;font-weight: bold;display: inline-block;line-height: 1.2em;}#sk-container-id-2 div.sk-label-container {text-align: center;}#sk-container-id-2 div.sk-container {/* jupyter's `normalize.less` sets `[hidden] { display: none; }` but bootstrap.min.css set `[hidden] { display: none !important; }` so we also need the `!important` here to be able to override the default hidden behavior on the sphinx rendered scikit-learn.org. See: https://github.com/scikit-learn/scikit-learn/issues/21755 */display: inline-block !important;position: relative;}#sk-container-id-2 div.sk-text-repr-fallback {display: none;}</style><div id=\"sk-container-id-2\" class=\"sk-top-container\"><div class=\"sk-text-repr-fallback\"><pre>DecisionTreeClassifier(max_depth=3, random_state=0)</pre><b>In a Jupyter environment, please rerun this cell to show the HTML representation or trust the notebook. <br />On GitHub, the HTML representation is unable to render, please try loading this page with nbviewer.org.</b></div><div class=\"sk-container\" hidden><div class=\"sk-item\"><div class=\"sk-estimator sk-toggleable\"><input class=\"sk-toggleable__control sk-hidden--visually\" id=\"sk-estimator-id-2\" type=\"checkbox\" checked><label for=\"sk-estimator-id-2\" class=\"sk-toggleable__label sk-toggleable__label-arrow\">DecisionTreeClassifier</label><div class=\"sk-toggleable__content\"><pre>DecisionTreeClassifier(max_depth=3, random_state=0)</pre></div></div></div></div></div>"
      ],
      "text/plain": [
       "DecisionTreeClassifier(max_depth=3, random_state=0)"
      ]
     },
     "execution_count": 52,
     "metadata": {},
     "output_type": "execute_result"
    }
   ],
   "source": [
    "#Constructing a Decision Tree\n",
    "dtree = DecisionTreeClassifier(criterion='gini', max_depth=3, random_state=0)\n",
    "dtree.fit(X_train, y_train)"
   ]
  },
  {
   "cell_type": "code",
   "execution_count": 53,
   "id": "766d77e2",
   "metadata": {},
   "outputs": [
    {
     "data": {
      "text/plain": [
       "0.7986259180289031"
      ]
     },
     "execution_count": 53,
     "metadata": {},
     "output_type": "execute_result"
    }
   ],
   "source": [
    "dtree.score(X_train, y_train)"
   ]
  },
  {
   "cell_type": "code",
   "execution_count": 54,
   "id": "32b6936a",
   "metadata": {},
   "outputs": [
    {
     "data": {
      "text/plain": [
       "0.8007736943907157"
      ]
     },
     "execution_count": 54,
     "metadata": {},
     "output_type": "execute_result"
    }
   ],
   "source": [
    "dtree.score(X_test, y_test)"
   ]
  },
  {
   "cell_type": "code",
   "execution_count": 58,
   "id": "e1a6efa5",
   "metadata": {},
   "outputs": [],
   "source": [
    "dtreeR = DecisionTreeClassifier(criterion='gini', max_depth=3, random_state=0)"
   ]
  },
  {
   "cell_type": "code",
   "execution_count": 59,
   "id": "9b3fa7fb",
   "metadata": {},
   "outputs": [
    {
     "name": "stdout",
     "output_type": "stream",
     "text": [
      "0.7986259180289031\n"
     ]
    }
   ],
   "source": [
    "dtreeR.fit(X_train, y_train)\n",
    "print(dtreeR.score(X_train, y_train))"
   ]
  },
  {
   "cell_type": "code",
   "execution_count": 62,
   "id": "b52bc36c",
   "metadata": {},
   "outputs": [],
   "source": [
    "y_predict = dtreeR.predict(X_test)"
   ]
  },
  {
   "cell_type": "code",
   "execution_count": 63,
   "id": "86cf90b4",
   "metadata": {},
   "outputs": [
    {
     "name": "stdout",
     "output_type": "stream",
     "text": [
      "0.8007736943907157\n"
     ]
    }
   ],
   "source": [
    "print(dtreeR.score(X_test, y_test))"
   ]
  },
  {
   "cell_type": "code",
   "execution_count": 64,
   "id": "5247f492",
   "metadata": {},
   "outputs": [],
   "source": [
    "from sklearn import metrics"
   ]
  },
  {
   "cell_type": "code",
   "execution_count": 65,
   "id": "f41eb56f",
   "metadata": {},
   "outputs": [
    {
     "data": {
      "text/plain": [
       "<AxesSubplot: >"
      ]
     },
     "execution_count": 65,
     "metadata": {},
     "output_type": "execute_result"
    },
    {
     "data": {
      "image/png": "[encoded data removed]",
      "text/plain": [
       "<Figure size 700x500 with 2 Axes>"
      ]
     },
     "metadata": {},
     "output_type": "display_data"
    }
   ],
   "source": [
    "cm = metrics.confusion_matrix(y_test, y_predict, labels=[0,1])\n",
    "df_cm = pd.DataFrame(cm, index = [i for i in ['No', 'Yes']],\n",
    "                    columns = [i for i in ['No', 'Yes']])\n",
    "plt.figure(figsize=(7,5))\n",
    "sns.heatmap(df_cm, annot=True, fmt='g')"
   ]
  },
  {
   "cell_type": "markdown",
   "id": "6e948432",
   "metadata": {},
   "source": [
    "### Implementing AdaBoost Classifier"
   ]
  },
  {
   "cell_type": "code",
   "execution_count": 66,
   "id": "b4d5a6a4",
   "metadata": {},
   "outputs": [
    {
     "name": "stdout",
     "output_type": "stream",
     "text": [
      "0.820392373583863\n",
      "0.8140251125325753\n"
     ]
    }
   ],
   "source": [
    "abcl = AdaBoostClassifier(n_estimators=60, random_state=0)\n",
    "abcl = abcl.fit(X_train, y_train)\n",
    "y_predict = abcl.predict(X_test)\n",
    "print(abcl.score(X_test, y_test))\n",
    "print(abcl.score(X_train, y_train))"
   ]
  },
  {
   "cell_type": "markdown",
   "id": "413cd954",
   "metadata": {},
   "source": [
    "### Implementing GradientBoostingClassifier"
   ]
  },
  {
   "cell_type": "code",
   "execution_count": 67,
   "id": "3a3e5030",
   "metadata": {},
   "outputs": [
    {
     "name": "stdout",
     "output_type": "stream",
     "text": [
      "0.8195634153080962\n",
      "0.8204217010187159\n"
     ]
    }
   ],
   "source": [
    "gbcl = GradientBoostingClassifier(n_estimators=70, random_state=0)\n",
    "gbcl = gbcl.fit(X_train, y_train)\n",
    "y_predict = gbcl.predict(X_test)\n",
    "print(gbcl.score(X_test, y_test))\n",
    "print(gbcl.score(X_train, y_train))"
   ]
  },
  {
   "cell_type": "markdown",
   "id": "1a66560a",
   "metadata": {},
   "source": [
    "### Implementing RandomForestClassifier"
   ]
  },
  {
   "cell_type": "code",
   "execution_count": 68,
   "id": "419b3aaf",
   "metadata": {},
   "outputs": [
    {
     "name": "stdout",
     "output_type": "stream",
     "text": [
      "0.7421939762365294\n",
      "0.7523098791755508\n"
     ]
    }
   ],
   "source": [
    "rfcl = RandomForestClassifier(n_estimators = 130, random_state=0, max_features=3, max_depth=3)\n",
    "rfcl = rfcl.fit(X_train, y_train)\n",
    "y_predict = rfcl.predict(X_test)\n",
    "print(rfcl.score(X_test, y_test))\n",
    "print(rfcl.score(X_train, y_train))"
   ]
  }
 ],
 "metadata": {
  "kernelspec": {
   "display_name": "Python 3 (ipykernel)",
   "language": "python",
   "name": "python3"
  },
  "language_info": {
   "codemirror_mode": {
    "name": "ipython",
    "version": 3
   },
   "file_extension": ".py",
   "mimetype": "text/x-python",
   "name": "python",
   "nbconvert_exporter": "python",
   "pygments_lexer": "ipython3",
   "version": "3.11.1"
  }
 },
 "nbformat": 4,
 "nbformat_minor": 5
}
